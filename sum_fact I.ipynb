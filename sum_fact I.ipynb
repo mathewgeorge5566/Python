{
 "cells": [
  {
   "cell_type": "code",
   "execution_count": 8,
   "id": "d70c7148",
   "metadata": {},
   "outputs": [
    {
     "name": "stdout",
     "output_type": "stream",
     "text": [
      "100\n",
      "7\n"
     ]
    }
   ],
   "source": [
    "import sympy\n",
    "n=int(input())\n",
    "sum_fact=0\n",
    "a=[]\n",
    "a=sympy.primepi(n)\n",
    "while(a>0):\n",
    "    r=a%10\n",
    "    sum_fact=sum_fact+r\n",
    "    a=a//10\n",
    "print( sum_fact)"
   ]
  },
  {
   "cell_type": "code",
   "execution_count": null,
   "id": "4337101b",
   "metadata": {},
   "outputs": [],
   "source": []
  },
  {
   "cell_type": "code",
   "execution_count": null,
   "id": "2a5fc5a6",
   "metadata": {},
   "outputs": [],
   "source": []
  }
 ],
 "metadata": {
  "kernelspec": {
   "display_name": "Python 3",
   "language": "python",
   "name": "python3"
  },
  "language_info": {
   "codemirror_mode": {
    "name": "ipython",
    "version": 3
   },
   "file_extension": ".py",
   "mimetype": "text/x-python",
   "name": "python",
   "nbconvert_exporter": "python",
   "pygments_lexer": "ipython3",
   "version": "3.8.8"
  }
 },
 "nbformat": 4,
 "nbformat_minor": 5
}
