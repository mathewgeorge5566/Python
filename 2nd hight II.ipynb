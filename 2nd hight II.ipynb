{
 "cells": [
  {
   "cell_type": "code",
   "execution_count": 3,
   "id": "f68997ed",
   "metadata": {},
   "outputs": [
    {
     "name": "stdout",
     "output_type": "stream",
     "text": [
      "Enter number of elements : 7\n",
      "56\n",
      "543\n",
      "232\n",
      "12\n",
      "43\n",
      "54\n",
      "65\n",
      "2nd hight number 232\n"
     ]
    }
   ],
   "source": [
    "lt = []\n",
    "n = int(input(\"Enter number of elements : \"))\n",
    "for i in range(0, n):\n",
    "    elem = int(input())\n",
    "        \n",
    "    lt.append(elem)\n",
    "    lt.sort() \n",
    "print(\"2nd hight number\",lt[n-2])"
   ]
  },
  {
   "cell_type": "code",
   "execution_count": null,
   "id": "5c46e61a",
   "metadata": {},
   "outputs": [],
   "source": []
  },
  {
   "cell_type": "code",
   "execution_count": null,
   "id": "8c897074",
   "metadata": {},
   "outputs": [],
   "source": []
  }
 ],
 "metadata": {
  "kernelspec": {
   "display_name": "Python 3",
   "language": "python",
   "name": "python3"
  },
  "language_info": {
   "codemirror_mode": {
    "name": "ipython",
    "version": 3
   },
   "file_extension": ".py",
   "mimetype": "text/x-python",
   "name": "python",
   "nbconvert_exporter": "python",
   "pygments_lexer": "ipython3",
   "version": "3.8.8"
  }
 },
 "nbformat": 4,
 "nbformat_minor": 5
}
