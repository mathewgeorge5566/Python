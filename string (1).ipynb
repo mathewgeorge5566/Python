{
 "cells": [
  {
   "cell_type": "code",
   "execution_count": 1,
   "id": "24f00a32",
   "metadata": {},
   "outputs": [
    {
     "data": {
      "text/plain": [
       "'Mathew'"
      ]
     },
     "execution_count": 1,
     "metadata": {},
     "output_type": "execute_result"
    }
   ],
   "source": [
    "'Mathew'"
   ]
  },
  {
   "cell_type": "code",
   "execution_count": 2,
   "id": "da703fe2",
   "metadata": {},
   "outputs": [
    {
     "data": {
      "text/plain": [
       "'George'"
      ]
     },
     "execution_count": 2,
     "metadata": {},
     "output_type": "execute_result"
    }
   ],
   "source": [
    "\"George\""
   ]
  },
  {
   "cell_type": "code",
   "execution_count": 3,
   "id": "c0120ba1",
   "metadata": {},
   "outputs": [
    {
     "name": "stdout",
     "output_type": "stream",
     "text": [
      "Hello World \n",
      "Hello World \n",
      "\n",
      "\n",
      "\n",
      "\n",
      "Mathew George\n"
     ]
    }
   ],
   "source": [
    "print('Hello World ')\n",
    "print('Hello World ')\n",
    "print('\\n')\n",
    "print('\\n')\n",
    "print('Mathew George')"
   ]
  },
  {
   "cell_type": "code",
   "execution_count": 4,
   "id": "92b77c5c",
   "metadata": {},
   "outputs": [
    {
     "name": "stdout",
     "output_type": "stream",
     "text": [
      "hello Mathew \n"
     ]
    }
   ],
   "source": [
    "s = \"hello\"\n",
    "s=s+' Mathew '\n",
    "print(s)\n"
   ]
  },
  {
   "cell_type": "code",
   "execution_count": 5,
   "id": "6747bc62",
   "metadata": {},
   "outputs": [
    {
     "data": {
      "text/plain": [
       "'HELLO MATHEW '"
      ]
     },
     "execution_count": 5,
     "metadata": {},
     "output_type": "execute_result"
    }
   ],
   "source": [
    "s.upper()\n"
   ]
  },
  {
   "cell_type": "code",
   "execution_count": 6,
   "id": "bf7018cc",
   "metadata": {},
   "outputs": [
    {
     "data": {
      "text/plain": [
       "'hello mathew '"
      ]
     },
     "execution_count": 6,
     "metadata": {},
     "output_type": "execute_result"
    }
   ],
   "source": [
    "s.lower()"
   ]
  },
  {
   "cell_type": "code",
   "execution_count": 7,
   "id": "d2398554",
   "metadata": {},
   "outputs": [
    {
     "data": {
      "text/plain": [
       "['hello Mathew ']"
      ]
     },
     "execution_count": 7,
     "metadata": {},
     "output_type": "execute_result"
    }
   ],
   "source": [
    "s.split('W')"
   ]
  },
  {
   "cell_type": "code",
   "execution_count": 8,
   "id": "789946d2",
   "metadata": {},
   "outputs": [
    {
     "data": {
      "text/plain": [
       "['hello Mathew ']"
      ]
     },
     "execution_count": 8,
     "metadata": {},
     "output_type": "execute_result"
    }
   ],
   "source": [
    "s.split('g')"
   ]
  },
  {
   "cell_type": "code",
   "execution_count": 9,
   "id": "13dcf83f",
   "metadata": {},
   "outputs": [
    {
     "data": {
      "text/plain": [
       "['hello Mathe', ' ']"
      ]
     },
     "execution_count": 9,
     "metadata": {},
     "output_type": "execute_result"
    }
   ],
   "source": [
    "s.split('w')"
   ]
  },
  {
   "cell_type": "code",
   "execution_count": 10,
   "id": "2a7986c2",
   "metadata": {},
   "outputs": [
    {
     "data": {
      "text/plain": [
       "['hello Mathew ']"
      ]
     },
     "execution_count": 10,
     "metadata": {},
     "output_type": "execute_result"
    }
   ],
   "source": [
    "s.split('mathew')"
   ]
  },
  {
   "cell_type": "code",
   "execution_count": 11,
   "id": "bf9fdd0b",
   "metadata": {},
   "outputs": [
    {
     "data": {
      "text/plain": [
       "['hello ', ' ']"
      ]
     },
     "execution_count": 11,
     "metadata": {},
     "output_type": "execute_result"
    }
   ],
   "source": [
    "s.split('Mathew')"
   ]
  },
  {
   "cell_type": "code",
   "execution_count": null,
   "id": "3fa21fa9",
   "metadata": {},
   "outputs": [],
   "source": []
  }
 ],
 "metadata": {
  "kernelspec": {
   "display_name": "Python 3",
   "language": "python",
   "name": "python3"
  },
  "language_info": {
   "codemirror_mode": {
    "name": "ipython",
    "version": 3
   },
   "file_extension": ".py",
   "mimetype": "text/x-python",
   "name": "python",
   "nbconvert_exporter": "python",
   "pygments_lexer": "ipython3",
   "version": "3.8.8"
  }
 },
 "nbformat": 4,
 "nbformat_minor": 5
}
