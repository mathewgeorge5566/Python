{
 "cells": [
  {
   "cell_type": "code",
   "execution_count": 7,
   "id": "85f189aa",
   "metadata": {},
   "outputs": [
    {
     "name": "stdout",
     "output_type": "stream",
     "text": [
      "Enter n:\n",
      "4\n",
      " given number is power of 2\n"
     ]
    }
   ],
   "source": [
    "import math\n",
    "print(\"Enter n:\")\n",
    "n=int(input())\n",
    "while(n>1):\n",
    "    if(n%2==0):\n",
    "        n=n//2 \n",
    "    else:\n",
    "        print(\"given number is not power of 2\")\n",
    "        break   \n",
    "if(n==1):\n",
    "    print(\" given number is power of 2\")\n"
   ]
  },
  {
   "cell_type": "code",
   "execution_count": null,
   "id": "dd47f91c",
   "metadata": {},
   "outputs": [],
   "source": []
  },
  {
   "cell_type": "code",
   "execution_count": null,
   "id": "9fee78f4",
   "metadata": {},
   "outputs": [],
   "source": []
  }
 ],
 "metadata": {
  "kernelspec": {
   "display_name": "Python 3",
   "language": "python",
   "name": "python3"
  },
  "language_info": {
   "codemirror_mode": {
    "name": "ipython",
    "version": 3
   },
   "file_extension": ".py",
   "mimetype": "text/x-python",
   "name": "python",
   "nbconvert_exporter": "python",
   "pygments_lexer": "ipython3",
   "version": "3.8.8"
  }
 },
 "nbformat": 4,
 "nbformat_minor": 5
}
