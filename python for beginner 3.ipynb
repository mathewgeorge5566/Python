{
 "cells": [
  {
   "cell_type": "markdown",
   "id": "6a5f7860",
   "metadata": {},
   "source": [
    "# 3. Control Flow"
   ]
  },
  {
   "cell_type": "markdown",
   "id": "06f0c1bd",
   "metadata": {},
   "source": [
    "## 1. Comparison Operators"
   ]
  },
  {
   "cell_type": "code",
   "execution_count": 1,
   "id": "90b9914d",
   "metadata": {},
   "outputs": [
    {
     "data": {
      "text/plain": [
       "True"
      ]
     },
     "execution_count": 1,
     "metadata": {},
     "output_type": "execute_result"
    }
   ],
   "source": [
    "10 > 3 # Here we get boolean value\n",
    "10 >= 3\n",
    "10 < 20\n",
    "10 <= 20\n",
    "10 == 10\n"
   ]
  },
  {
   "cell_type": "code",
   "execution_count": 2,
   "id": "b8bb418b",
   "metadata": {},
   "outputs": [
    {
     "data": {
      "text/plain": [
       "False"
      ]
     },
     "execution_count": 2,
     "metadata": {},
     "output_type": "execute_result"
    }
   ],
   "source": [
    "10 == \"10\" "
   ]
  },
  {
   "cell_type": "code",
   "execution_count": 3,
   "id": "fbfbef69",
   "metadata": {},
   "outputs": [
    {
     "data": {
      "text/plain": [
       "True"
      ]
     },
     "execution_count": 3,
     "metadata": {},
     "output_type": "execute_result"
    }
   ],
   "source": [
    "10 != '10'"
   ]
  },
  {
   "cell_type": "code",
   "execution_count": 4,
   "id": "f4520f7a",
   "metadata": {},
   "outputs": [
    {
     "data": {
      "text/plain": [
       "True"
      ]
     },
     "execution_count": 4,
     "metadata": {},
     "output_type": "execute_result"
    }
   ],
   "source": [
    "'bag' > 'apple'"
   ]
  },
  {
   "cell_type": "code",
   "execution_count": 5,
   "id": "8fa3af56",
   "metadata": {},
   "outputs": [
    {
     "data": {
      "text/plain": [
       "False"
      ]
     },
     "execution_count": 5,
     "metadata": {},
     "output_type": "execute_result"
    }
   ],
   "source": [
    "'bag' == 'BAG' # False beacuse every character has a numeric representation. lets see next step"
   ]
  },
  {
   "cell_type": "code",
   "execution_count": 6,
   "id": "9971c670",
   "metadata": {},
   "outputs": [
    {
     "data": {
      "text/plain": [
       "98"
      ]
     },
     "execution_count": 6,
     "metadata": {},
     "output_type": "execute_result"
    }
   ],
   "source": [
    "ord('b') #converts a character into its Unicode code value.\n",
    "         #This method accepts a single character."
   ]
  },
  {
   "cell_type": "code",
   "execution_count": 7,
   "id": "7556bb9d",
   "metadata": {},
   "outputs": [
    {
     "data": {
      "text/plain": [
       "66"
      ]
     },
     "execution_count": 7,
     "metadata": {},
     "output_type": "execute_result"
    }
   ],
   "source": [
    "ord('B')"
   ]
  },
  {
   "cell_type": "code",
   "execution_count": 8,
   "id": "0f78eb18",
   "metadata": {},
   "outputs": [
    {
     "data": {
      "text/plain": [
       "True"
      ]
     },
     "execution_count": 8,
     "metadata": {},
     "output_type": "execute_result"
    }
   ],
   "source": [
    "'bag' > 'BAG'"
   ]
  },
  {
   "cell_type": "code",
   "execution_count": 9,
   "id": "cd0f0109",
   "metadata": {},
   "outputs": [
    {
     "data": {
      "text/plain": [
       "False"
      ]
     },
     "execution_count": 9,
     "metadata": {},
     "output_type": "execute_result"
    }
   ],
   "source": [
    "'bag' < 'BAG'"
   ]
  },
  {
   "cell_type": "markdown",
   "id": "dde09997",
   "metadata": {},
   "source": [
    "## 2. Conditional Statement"
   ]
  },
  {
   "cell_type": "code",
   "execution_count": 10,
   "id": "6a983d72",
   "metadata": {},
   "outputs": [
    {
     "name": "stdout",
     "output_type": "stream",
     "text": [
      " please add the value of temp: 25\n",
      "done\n",
      "it's ohk\n"
     ]
    }
   ],
   "source": [
    "temperature = int(input(' please add the value of temp: '))\n",
    "if temperature > 30:\n",
    "    print(\"it's very hot day\")\n",
    "    print(\"it is warm\")\n",
    "    print(\"drink water\")\n",
    "print(\"done\")\n",
    "print(\"it's ohk\")"
   ]
  },
  {
   "cell_type": "code",
   "execution_count": 48,
   "id": "b6d6c063",
   "metadata": {},
   "outputs": [
    {
     "name": "stdout",
     "output_type": "stream",
     "text": [
      " please add the value of temp: 4\n",
      "done\n"
     ]
    }
   ],
   "source": [
    "temperature = int(input(' please add the value of temp: '))\n",
    "if temperature > 30:\n",
    "    print(\"it is warm\")\n",
    "    print(\"drink water\")\n",
    "elif temperature > 20:\n",
    "    print(\"it is nice day\")\n",
    "elif temperature == 5:\n",
    "    print('its very cold day')\n",
    "print(\"done\")"
   ]
  },
  {
   "cell_type": "code",
   "execution_count": 50,
   "id": "45ae9c97",
   "metadata": {},
   "outputs": [
    {
     "name": "stdout",
     "output_type": "stream",
     "text": [
      "its ohk\n",
      "done\n"
     ]
    }
   ],
   "source": [
    "temperature = 18\n",
    "if temperature > 30:\n",
    "    print(\"it is warm\")\n",
    "    print(\"drink water\")\n",
    "elif temperature > 20:\n",
    "    print(\"it is nice day\")\n",
    "else:\n",
    "    print(\"its ohk\")\n",
    "print(\"done\")"
   ]
  },
  {
   "cell_type": "markdown",
   "id": "ff775936",
   "metadata": {},
   "source": [
    "## 3. Ternary Operator"
   ]
  },
  {
   "cell_type": "code",
   "execution_count": 53,
   "id": "9517e985",
   "metadata": {},
   "outputs": [
    {
     "name": "stdout",
     "output_type": "stream",
     "text": [
      "its a cold day\n"
     ]
    }
   ],
   "source": [
    "temperature = 18\n",
    "if temperature > 20:\n",
    "    print('its a nyc day')\n",
    "else:\n",
    "    print(\"its a cold day\")"
   ]
  },
  {
   "cell_type": "code",
   "execution_count": 58,
   "id": "ee424f05",
   "metadata": {},
   "outputs": [
    {
     "name": "stdout",
     "output_type": "stream",
     "text": [
      "its a cold day\n"
     ]
    }
   ],
   "source": [
    "temperature = 18\n",
    "message = \"it is a nice day\" if temperature >= 20 else \"its a cold day\"\n",
    "print(message)"
   ]
  },
  {
   "cell_type": "code",
   "execution_count": 60,
   "id": "cbf2585e",
   "metadata": {},
   "outputs": [
    {
     "name": "stdout",
     "output_type": "stream",
     "text": [
      "am not eligible for vote\n"
     ]
    }
   ],
   "source": [
    "age = 13\n",
    "message = \"yes am eligible for vote\" if age >= 18 else \"am not eligible for vote\"\n",
    "print(message)"
   ]
  },
  {
   "cell_type": "code",
   "execution_count": 15,
   "id": "32ae6b95",
   "metadata": {},
   "outputs": [
    {
     "name": "stdout",
     "output_type": "stream",
     "text": [
      "person is  eligible for voting\n"
     ]
    }
   ],
   "source": [
    "age = 22\n",
    "if age >= 18:\n",
    "    print(\"person is  eligible for voting\")\n",
    "else:\n",
    "    print(\"Person is not eligible for voting\")"
   ]
  },
  {
   "cell_type": "code",
   "execution_count": 16,
   "id": "aeb80f00",
   "metadata": {},
   "outputs": [
    {
     "name": "stdout",
     "output_type": "stream",
     "text": [
      "person is not eligible for voting\n"
     ]
    }
   ],
   "source": [
    "age = 16\n",
    "condition = \"person is eligible for voting\" if age >= 18 else \"person is not eligible for voting\"\n",
    "print(condition)"
   ]
  },
  {
   "cell_type": "markdown",
   "id": "f12679a9",
   "metadata": {},
   "source": [
    "## 4. Logical Operators"
   ]
  },
  {
   "cell_type": "code",
   "execution_count": 61,
   "id": "8e5c517c",
   "metadata": {},
   "outputs": [
    {
     "name": "stdout",
     "output_type": "stream",
     "text": [
      "eligible for loan\n"
     ]
    }
   ],
   "source": [
    "high_income = True\n",
    "good_credit = True\n",
    "\n",
    "if high_income and good_credit:\n",
    "    print(\"eligible for loan\")\n",
    "else:\n",
    "    print(\"not eligible for loan\")"
   ]
  },
  {
   "cell_type": "code",
   "execution_count": 62,
   "id": "97aee38a",
   "metadata": {},
   "outputs": [
    {
     "name": "stdout",
     "output_type": "stream",
     "text": [
      "not eligible for loan\n"
     ]
    }
   ],
   "source": [
    "high_income = False\n",
    "good_credit = False\n",
    "\n",
    "if high_income or good_credit:\n",
    "    print(\"eligible for loan\")\n",
    "else:\n",
    "    print(\"not eligible for loan\")"
   ]
  },
  {
   "cell_type": "code",
   "execution_count": 67,
   "id": "3b6b69c1",
   "metadata": {},
   "outputs": [
    {
     "name": "stdout",
     "output_type": "stream",
     "text": [
      "eligible for loan\n",
      "its is not ohk\n"
     ]
    }
   ],
   "source": [
    "high_income = True\n",
    "good_credit = False\n",
    "student = True\n",
    "\n",
    "if not good_credit:\n",
    "    print(\"eligible for loan\")\n",
    "elif student:\n",
    "    print(\"not eligible for loan\")\n",
    "elif high_income:\n",
    "    print('its ohk')\n",
    "    \n",
    "print(\"its is not ohk\")"
   ]
  },
  {
   "cell_type": "code",
   "execution_count": 20,
   "id": "4bc363ba",
   "metadata": {},
   "outputs": [
    {
     "name": "stdout",
     "output_type": "stream",
     "text": [
      "not eligible for loan\n"
     ]
    }
   ],
   "source": [
    "high_income = True\n",
    "good_credit = False\n",
    "student = True\n",
    "\n",
    "if (high_income or good_credit) and not student:\n",
    "    print(\"eligible for loan\")\n",
    "else:\n",
    "    print(\"not eligible for loan\")"
   ]
  },
  {
   "cell_type": "markdown",
   "id": "61512592",
   "metadata": {},
   "source": [
    "## 5. Short-circuit Evaluation"
   ]
  },
  {
   "cell_type": "code",
   "execution_count": 21,
   "id": "82fe45b2",
   "metadata": {},
   "outputs": [
    {
     "name": "stdout",
     "output_type": "stream",
     "text": [
      "eligible for loan\n"
     ]
    }
   ],
   "source": [
    "high_income = True\n",
    "good_credit = False\n",
    "student = True\n",
    "\n",
    "if high_income or good_credit or not student:\n",
    "    print(\"eligible for loan\")\n",
    "#Here if any one of the statement is true then the python interpreter stop excute the whole code."
   ]
  },
  {
   "cell_type": "code",
   "execution_count": 22,
   "id": "89ad2ad5",
   "metadata": {},
   "outputs": [],
   "source": [
    "high_income = True\n",
    "good_credit = False\n",
    "student = True\n",
    "\n",
    "if high_income and good_credit and  student:\n",
    "    print(\"eligible for loan\")\n",
    "#Here if any one of the statement is false then the python interpreter will stop the excute the whole program."
   ]
  },
  {
   "cell_type": "markdown",
   "id": "1dd2c502",
   "metadata": {},
   "source": [
    "## 6. Chaining Comparion Operators"
   ]
  },
  {
   "cell_type": "code",
   "execution_count": 23,
   "id": "7013f96f",
   "metadata": {},
   "outputs": [
    {
     "name": "stdout",
     "output_type": "stream",
     "text": [
      "eligible\n"
     ]
    }
   ],
   "source": [
    "#Age should be in between 18 and 65\n",
    "age = 22\n",
    "if age >= 18 and age < 65:\n",
    "    print(\"eligible\")"
   ]
  },
  {
   "cell_type": "code",
   "execution_count": 24,
   "id": "140bff66",
   "metadata": {},
   "outputs": [
    {
     "name": "stdout",
     "output_type": "stream",
     "text": [
      "eligible\n"
     ]
    }
   ],
   "source": [
    "#Age should be in between 18 and 65\n",
    "age = 22\n",
    "if 18 <= age < 65: # This is called chaining comparison \n",
    "    print(\"eligible\")"
   ]
  },
  {
   "cell_type": "markdown",
   "id": "02e0a963",
   "metadata": {},
   "source": [
    "## 7. Quiz"
   ]
  },
  {
   "cell_type": "code",
   "execution_count": 25,
   "id": "2f468743",
   "metadata": {},
   "outputs": [
    {
     "name": "stdout",
     "output_type": "stream",
     "text": [
      "c\n"
     ]
    }
   ],
   "source": [
    "if 10 == '10':\n",
    "    print('a')\n",
    "elif 'bag' > 'apple' and 'bag' > 'cat':\n",
    "    print('b')\n",
    "else:\n",
    "    print('c')"
   ]
  },
  {
   "cell_type": "markdown",
   "id": "de922417",
   "metadata": {},
   "source": [
    "## 8. For Loops"
   ]
  },
  {
   "cell_type": "code",
   "execution_count": 26,
   "id": "3b39fcb1",
   "metadata": {},
   "outputs": [
    {
     "name": "stdout",
     "output_type": "stream",
     "text": [
      "attempt 0\n",
      "attempt 1\n",
      "attempt 2\n"
     ]
    }
   ],
   "source": [
    "for number in range(3):\n",
    "    print('attempt', number)"
   ]
  },
  {
   "cell_type": "code",
   "execution_count": 27,
   "id": "b1913cf2",
   "metadata": {},
   "outputs": [
    {
     "data": {
      "text/plain": [
       "int"
      ]
     },
     "execution_count": 27,
     "metadata": {},
     "output_type": "execute_result"
    }
   ],
   "source": [
    "type(number)"
   ]
  },
  {
   "cell_type": "code",
   "execution_count": 28,
   "id": "e67266c9",
   "metadata": {},
   "outputs": [
    {
     "name": "stdout",
     "output_type": "stream",
     "text": [
      "attempt 1\n",
      "attempt 2\n",
      "attempt 3\n"
     ]
    }
   ],
   "source": [
    "for number in range(3):\n",
    "    print('attempt', number + 1)"
   ]
  },
  {
   "cell_type": "code",
   "execution_count": 29,
   "id": "186893de",
   "metadata": {},
   "outputs": [
    {
     "name": "stdout",
     "output_type": "stream",
     "text": [
      "attempt 1 .\n",
      "attempt 2 ..\n",
      "attempt 3 ...\n"
     ]
    }
   ],
   "source": [
    "for number in range(3):\n",
    "    print('attempt', number + 1,(number + 1) * '.')"
   ]
  },
  {
   "cell_type": "code",
   "execution_count": 30,
   "id": "6351a417",
   "metadata": {},
   "outputs": [
    {
     "name": "stdout",
     "output_type": "stream",
     "text": [
      "attempt 1 .\n",
      "attempt 2 ..\n",
      "attempt 3 ...\n"
     ]
    }
   ],
   "source": [
    "for number in range(1, 4):\n",
    "    print('attempt',number ,number * '.')"
   ]
  },
  {
   "cell_type": "code",
   "execution_count": 31,
   "id": "fe953ec4",
   "metadata": {},
   "outputs": [
    {
     "name": "stdout",
     "output_type": "stream",
     "text": [
      "attempt 1 .\n",
      "attempt 3 ...\n",
      "attempt 5 .....\n",
      "attempt 7 .......\n",
      "attempt 9 .........\n"
     ]
    }
   ],
   "source": [
    "for number in range(1, 10 ,2):\n",
    "    print('attempt',number ,number * '.')"
   ]
  },
  {
   "cell_type": "markdown",
   "id": "d1c109c8",
   "metadata": {},
   "source": [
    "## 9. For Else"
   ]
  },
  {
   "cell_type": "code",
   "execution_count": 32,
   "id": "0d3f0ab0",
   "metadata": {},
   "outputs": [
    {
     "name": "stdout",
     "output_type": "stream",
     "text": [
      "attempt\n",
      "Successful\n"
     ]
    }
   ],
   "source": [
    "successful = True\n",
    "for number in range(3):\n",
    "    print('attempt')\n",
    "    if successful:\n",
    "        print('Successful')\n",
    "        break\n",
    "        "
   ]
  },
  {
   "cell_type": "code",
   "execution_count": 33,
   "id": "9b190ceb",
   "metadata": {},
   "outputs": [
    {
     "name": "stdout",
     "output_type": "stream",
     "text": [
      "attempt\n",
      "attempt\n",
      "attempt\n",
      "attempted 3 times and failed\n"
     ]
    }
   ],
   "source": [
    "successful = False\n",
    "for number in range(3):\n",
    "    print('attempt')\n",
    "    if successful:\n",
    "        print('Successful')\n",
    "        break\n",
    "else:\n",
    "    print('attempted 3 times and failed')\n",
    "    \n",
    "    "
   ]
  },
  {
   "cell_type": "code",
   "execution_count": 34,
   "id": "7d6267e9",
   "metadata": {},
   "outputs": [
    {
     "name": "stdout",
     "output_type": "stream",
     "text": [
      "attempt\n",
      "Successful\n"
     ]
    }
   ],
   "source": [
    "successful = True\n",
    "for number in range(3):\n",
    "    print('attempt')\n",
    "    if successful:\n",
    "        print('Successful')\n",
    "        break;\n",
    "else:\n",
    "    print('attempted 3 times and failed')\n",
    "    "
   ]
  },
  {
   "cell_type": "markdown",
   "id": "91fd2006",
   "metadata": {},
   "source": [
    "## 10. Nested Loops"
   ]
  },
  {
   "cell_type": "code",
   "execution_count": 35,
   "id": "a9890e2b",
   "metadata": {},
   "outputs": [
    {
     "name": "stdout",
     "output_type": "stream",
     "text": [
      "(0, 0)\n",
      "(0, 1)\n",
      "(0, 2)\n",
      "(1, 0)\n",
      "(1, 1)\n",
      "(1, 2)\n",
      "(2, 0)\n",
      "(2, 1)\n",
      "(2, 2)\n",
      "(3, 0)\n",
      "(3, 1)\n",
      "(3, 2)\n",
      "(4, 0)\n",
      "(4, 1)\n",
      "(4, 2)\n"
     ]
    }
   ],
   "source": [
    "for x in range(5):\n",
    "    for y in range(3):\n",
    "        print(f\"({x}, {y})\")"
   ]
  },
  {
   "cell_type": "markdown",
   "id": "8ab2097d",
   "metadata": {},
   "source": [
    "## 11. Iterables"
   ]
  },
  {
   "cell_type": "code",
   "execution_count": 36,
   "id": "73215ad7",
   "metadata": {},
   "outputs": [
    {
     "name": "stdout",
     "output_type": "stream",
     "text": [
      "p\n",
      "y\n",
      "t\n",
      "h\n",
      "o\n",
      "n\n"
     ]
    }
   ],
   "source": [
    "for x in 'python':\n",
    "    print(x)"
   ]
  },
  {
   "cell_type": "code",
   "execution_count": 37,
   "id": "dbc0f2ed",
   "metadata": {},
   "outputs": [
    {
     "name": "stdout",
     "output_type": "stream",
     "text": [
      "1\n",
      "2\n",
      "3\n",
      "4\n",
      "5\n",
      "6\n",
      "7\n"
     ]
    }
   ],
   "source": [
    "for x in [1,2,3,4,5,6,7]:\n",
    "    print(x)"
   ]
  },
  {
   "cell_type": "code",
   "execution_count": 38,
   "id": "55e690c1",
   "metadata": {},
   "outputs": [
    {
     "name": "stdout",
     "output_type": "stream",
     "text": [
      "0\n",
      "1\n",
      "2\n",
      "3\n",
      "4\n",
      "5\n",
      "6\n",
      "7\n",
      "8\n",
      "9\n"
     ]
    }
   ],
   "source": [
    "for x in range(10):\n",
    "    print(x)"
   ]
  },
  {
   "cell_type": "markdown",
   "id": "0f155d98",
   "metadata": {},
   "source": [
    "## 12. While Loops"
   ]
  },
  {
   "cell_type": "code",
   "execution_count": 39,
   "id": "72dad59a",
   "metadata": {
    "scrolled": true
   },
   "outputs": [
    {
     "name": "stdout",
     "output_type": "stream",
     "text": [
      "100\n",
      "50\n",
      "25\n",
      "12\n",
      "6\n",
      "3\n",
      "1\n"
     ]
    }
   ],
   "source": [
    "number = 100\n",
    "while number > 0:\n",
    "    print(number)\n",
    "    number //= 2"
   ]
  },
  {
   "cell_type": "code",
   "execution_count": 41,
   "id": "bef61e19",
   "metadata": {
    "scrolled": true
   },
   "outputs": [
    {
     "ename": "IndentationError",
     "evalue": "unindent does not match any outer indentation level (<tokenize>, line 6)",
     "output_type": "error",
     "traceback": [
      "\u001b[0;36m  File \u001b[0;32m\"<tokenize>\"\u001b[0;36m, line \u001b[0;32m6\u001b[0m\n\u001b[0;31m    print(i)\u001b[0m\n\u001b[0m    ^\u001b[0m\n\u001b[0;31mIndentationError\u001b[0m\u001b[0;31m:\u001b[0m unindent does not match any outer indentation level\n"
     ]
    }
   ],
   "source": [
    "i = 0\n",
    "while i < 6:\n",
    "    i += 1\n",
    "    if i == 3:\n",
    "    continue\n",
    "  print(i)"
   ]
  },
  {
   "cell_type": "code",
   "execution_count": null,
   "id": "3a71c870",
   "metadata": {},
   "outputs": [],
   "source": [
    "i = 0 \n",
    "while i < 7:\n",
    "    i += 1\n",
    "    if i == 3:\n",
    "        continue\n",
    "    print(i)   \n",
    "        "
   ]
  },
  {
   "cell_type": "code",
   "execution_count": null,
   "id": "3ba0d4ab",
   "metadata": {},
   "outputs": [],
   "source": [
    "i = 1\n",
    "while i < 6:\n",
    "    print(i)\n",
    "    i += 1\n",
    "else:\n",
    "    print(\"i is no longer less than 6\")\n"
   ]
  },
  {
   "cell_type": "code",
   "execution_count": null,
   "id": "24dc9bbe",
   "metadata": {},
   "outputs": [],
   "source": [
    " "
   ]
  }
 ],
 "metadata": {
  "kernelspec": {
   "display_name": "Python 3",
   "language": "python",
   "name": "python3"
  },
  "language_info": {
   "codemirror_mode": {
    "name": "ipython",
    "version": 3
   },
   "file_extension": ".py",
   "mimetype": "text/x-python",
   "name": "python",
   "nbconvert_exporter": "python",
   "pygments_lexer": "ipython3",
   "version": "3.8.8"
  }
 },
 "nbformat": 4,
 "nbformat_minor": 5
}
