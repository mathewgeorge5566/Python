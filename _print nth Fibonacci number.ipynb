{
 "cells": [
  {
   "cell_type": "code",
   "execution_count": 7,
   "id": "2dd8e6d0",
   "metadata": {},
   "outputs": [
    {
     "name": "stdout",
     "output_type": "stream",
     "text": [
      "Enter n:\n",
      "8\n",
      "13\n"
     ]
    }
   ],
   "source": [
    "print(\"Enter n:\")\n",
    "n=int(input())\n",
    "a=0\n",
    "b=1\n",
    "if(n==1):\n",
    "    print(a)\n",
    "elif(n==2):\n",
    "    print(b)\n",
    "else:       \n",
    "    for i in range(1,n-1):\n",
    "        c=a+b\n",
    "        a=b\n",
    "        b=c\n",
    "    print(c)"
   ]
  },
  {
   "cell_type": "code",
   "execution_count": null,
   "id": "ad0ae206",
   "metadata": {},
   "outputs": [],
   "source": []
  },
  {
   "cell_type": "code",
   "execution_count": null,
   "id": "5b61b46c",
   "metadata": {},
   "outputs": [],
   "source": []
  }
 ],
 "metadata": {
  "kernelspec": {
   "display_name": "Python 3",
   "language": "python",
   "name": "python3"
  },
  "language_info": {
   "codemirror_mode": {
    "name": "ipython",
    "version": 3
   },
   "file_extension": ".py",
   "mimetype": "text/x-python",
   "name": "python",
   "nbconvert_exporter": "python",
   "pygments_lexer": "ipython3",
   "version": "3.8.8"
  }
 },
 "nbformat": 4,
 "nbformat_minor": 5
}
