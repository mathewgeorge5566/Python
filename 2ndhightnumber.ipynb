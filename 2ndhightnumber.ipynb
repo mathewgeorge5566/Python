{
 "cells": [
  {
   "cell_type": "code",
   "execution_count": 6,
   "id": "4433bb1d",
   "metadata": {},
   "outputs": [
    {
     "name": "stdout",
     "output_type": "stream",
     "text": [
      "Enter number of elements : 8\n",
      "4\n",
      "5\n",
      "1\n",
      "2\n",
      "4\n",
      "54\n",
      "67\n",
      "12\n",
      "2nd hight number 54\n"
     ]
    }
   ],
   "source": [
    "lt = []\n",
    "n = int(input(\"Enter number of elements : \"))\n",
    "for i in range(0, n):\n",
    "    elem = int(input())\n",
    "        \n",
    "    lt.append(elem)\n",
    "for j in range(0,n):\n",
    "    for k in range(j+1,n):\n",
    "        if(lt[j]>lt[k]):\n",
    "            t=lt[j]\n",
    "            lt[j]=lt[k]\n",
    "            lt[k]=t     \n",
    "print(\"2nd hight number\",lt[n-2])"
   ]
  },
  {
   "cell_type": "code",
   "execution_count": null,
   "id": "2edfca1a",
   "metadata": {},
   "outputs": [],
   "source": []
  }
 ],
 "metadata": {
  "kernelspec": {
   "display_name": "Python 3",
   "language": "python",
   "name": "python3"
  },
  "language_info": {
   "codemirror_mode": {
    "name": "ipython",
    "version": 3
   },
   "file_extension": ".py",
   "mimetype": "text/x-python",
   "name": "python",
   "nbconvert_exporter": "python",
   "pygments_lexer": "ipython3",
   "version": "3.8.8"
  }
 },
 "nbformat": 4,
 "nbformat_minor": 5
}
