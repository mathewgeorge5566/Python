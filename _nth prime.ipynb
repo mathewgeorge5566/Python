{
 "cells": [
  {
   "cell_type": "code",
   "execution_count": 7,
   "id": "f2e2c8c6",
   "metadata": {},
   "outputs": [
    {
     "name": "stdout",
     "output_type": "stream",
     "text": [
      "Enter the value for n\n",
      "5\n",
      "Output: 11\n"
     ]
    }
   ],
   "source": [
    "print(\"Enter the value for n\")\n",
    "n=int(input())\n",
    "r=0\n",
    "s=0\n",
    "i=0\n",
    "while(r is not n):\n",
    "    i=i+1\n",
    "    c=0\n",
    "    for k in range(1,i+1):\n",
    "        if(i%k==0):\n",
    "            c=c+1\n",
    "    if(c==2):\n",
    "        s=i\n",
    "        r=r+1\n",
    "if(r==n):\n",
    "     print(\"Output:\",s)"
   ]
  },
  {
   "cell_type": "code",
   "execution_count": null,
   "id": "30fa4220",
   "metadata": {},
   "outputs": [],
   "source": []
  }
 ],
 "metadata": {
  "kernelspec": {
   "display_name": "Python 3",
   "language": "python",
   "name": "python3"
  },
  "language_info": {
   "codemirror_mode": {
    "name": "ipython",
    "version": 3
   },
   "file_extension": ".py",
   "mimetype": "text/x-python",
   "name": "python",
   "nbconvert_exporter": "python",
   "pygments_lexer": "ipython3",
   "version": "3.8.8"
  }
 },
 "nbformat": 4,
 "nbformat_minor": 5
}
