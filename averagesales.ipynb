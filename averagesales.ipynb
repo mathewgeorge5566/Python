{
 "cells": [
  {
   "cell_type": "code",
   "execution_count": 1,
   "id": "7ccec381",
   "metadata": {},
   "outputs": [
    {
     "name": "stdout",
     "output_type": "stream",
     "text": [
      "enter number sales:3\n",
      "sales:2345\n",
      "sales:546\n",
      "sales:3245\n",
      "average sales: 2045.3333333333333\n"
     ]
    }
   ],
   "source": [
    "n=int(input(\"enter number sales:\"))\n",
    "sum=0\n",
    "for i in range(0,n):\n",
    "    sales=int(input(\"sales:\"))\n",
    "    sum=sum+sales\n",
    "print(\"average sales:\",sum/n)\n",
    "            "
   ]
  },
  {
   "cell_type": "code",
   "execution_count": null,
   "id": "d16f2467",
   "metadata": {},
   "outputs": [],
   "source": []
  }
 ],
 "metadata": {
  "kernelspec": {
   "display_name": "Python 3",
   "language": "python",
   "name": "python3"
  },
  "language_info": {
   "codemirror_mode": {
    "name": "ipython",
    "version": 3
   },
   "file_extension": ".py",
   "mimetype": "text/x-python",
   "name": "python",
   "nbconvert_exporter": "python",
   "pygments_lexer": "ipython3",
   "version": "3.8.8"
  }
 },
 "nbformat": 4,
 "nbformat_minor": 5
}
