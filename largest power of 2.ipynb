{
 "cells": [
  {
   "cell_type": "code",
   "execution_count": 9,
   "id": "f56a173e",
   "metadata": {},
   "outputs": [
    {
     "name": "stdout",
     "output_type": "stream",
     "text": [
      "Enter n:\n",
      "9\n",
      "9  is less than  2 ^ 4\n"
     ]
    }
   ],
   "source": [
    "print(\"Enter n:\")\n",
    "n=int(input())\n",
    "f=1\n",
    "c=0\n",
    "while(f < n):\n",
    "    f=f*2\n",
    "    c=c+1\n",
    "if(f==n):\n",
    "    print(2,\"^\",c,\" equal to the given number n \",n)\n",
    "if(f>n):\n",
    "    print(n,\" is less than \",2,\"^\",c)\n",
    "        "
   ]
  },
  {
   "cell_type": "code",
   "execution_count": null,
   "id": "e80be6f4",
   "metadata": {},
   "outputs": [],
   "source": []
  }
 ],
 "metadata": {
  "kernelspec": {
   "display_name": "Python 3",
   "language": "python",
   "name": "python3"
  },
  "language_info": {
   "codemirror_mode": {
    "name": "ipython",
    "version": 3
   },
   "file_extension": ".py",
   "mimetype": "text/x-python",
   "name": "python",
   "nbconvert_exporter": "python",
   "pygments_lexer": "ipython3",
   "version": "3.8.8"
  }
 },
 "nbformat": 4,
 "nbformat_minor": 5
}
