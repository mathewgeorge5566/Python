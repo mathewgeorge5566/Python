{
 "cells": [
  {
   "cell_type": "code",
   "execution_count": 12,
   "id": "21e62edc",
   "metadata": {},
   "outputs": [
    {
     "name": "stdout",
     "output_type": "stream",
     "text": [
      "Enter number : 46\n",
      "sum of n:- 10\n"
     ]
    }
   ],
   "source": [
    "n = int(input(\"Enter number : \"))\n",
    "s=0\n",
    "while n>0:\n",
    "    r=n%10\n",
    "    s=s+r\n",
    "    n=n//10\n",
    "print(\"sum of n:-\",s)\n"
   ]
  },
  {
   "cell_type": "code",
   "execution_count": null,
   "id": "255fd3c8",
   "metadata": {},
   "outputs": [],
   "source": []
  },
  {
   "cell_type": "code",
   "execution_count": null,
   "id": "8404d286",
   "metadata": {},
   "outputs": [],
   "source": []
  }
 ],
 "metadata": {
  "kernelspec": {
   "display_name": "Python 3",
   "language": "python",
   "name": "python3"
  },
  "language_info": {
   "codemirror_mode": {
    "name": "ipython",
    "version": 3
   },
   "file_extension": ".py",
   "mimetype": "text/x-python",
   "name": "python",
   "nbconvert_exporter": "python",
   "pygments_lexer": "ipython3",
   "version": "3.8.8"
  }
 },
 "nbformat": 4,
 "nbformat_minor": 5
}
