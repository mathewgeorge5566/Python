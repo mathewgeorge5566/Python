{
 "cells": [
  {
   "cell_type": "code",
   "execution_count": 3,
   "id": "5e56cc29",
   "metadata": {},
   "outputs": [
    {
     "name": "stdout",
     "output_type": "stream",
     "text": [
      "Enter list of Mailsturboslayer@gmail.com someone@outlook.com crashtv@gov.in blue_defender@gmail.com logan@yahoo.com ironmerc@gov.in steeltitan@outlook.com stealthedefender@yahoo.com blaze_assault@gov.in venom_fate@yahoo.com dark_side@yahoo.com fataldestiny@yahoo.com ultimatebeast@outlook.com masked_titan@gmail.com frozen_gunner@yahoo.com username_copied@gov.in whos_ur_buddy@outlook.com unfinished_sentenc@gov.in all_gone@gov.in something@gmail.com president@gmail.com tinfoilhat@gmail.com anonymouse@yahoo.com definitely_not_an_athlete@outlook.com dropout@gov.in paw_friend@outlook.com test_name_please_ignore@gov.in heyyou@gov.in a_distraction@yahoo.com thegodfatherpart4@gov.in unfriendme@outlook.com doodles@gmail.com fluffycookie@yahoo.com theintolerant@gmail.com fourhour@yahoo.com toastedwithcheese@gmail.com futureking@yahoo.com coolshirtbruh@outlook.com kentucky@yahoo.com chocolate@gmail.com saintbroseph@yahoo.com just_chillin@gmail.com ghostface@gov.in bigfootisreal@yahoo.com newbie@yahoo.com alienware@outlook.com chrishemsworth@outlook.com nachocheesefries@outlook.com reginageorge@gov.in harmless_potato@outlook.com frostedcupcake@outlook.com avocadorable@outlook.com pixie_dust@gmail.com chopsuey@yahoo.com iron_man@gov.in lemon_ade@outlook.com cerial_killer@outlook.com light_year@gov.in phoenix@outlook.com harry_potter@outlook.com\n",
      "\n",
      "\n",
      " number of mails- 60\n",
      "Gmail- 12\n",
      "Gov- 14\n",
      "Outlook- 18\n",
      "Yahoo- 16\n",
      "{'Gmail': 12, 'Gov': 14, 'Outlook': 18, 'Yahoo': 16}\n"
     ]
    }
   ],
   "source": [
    "import re\n",
    "input_string = input(\"Enter list of Mails\")\n",
    "list  = input_string.split(\"@\")\n",
    "n=len(list)\n",
    "gmail=0 \n",
    "outlook=0 \n",
    "gov=0 \n",
    "yahoo=0\n",
    "for i in range(0,n):\n",
    "    if(re.search('gmail',list[i])):\n",
    "        gmail=gmail+1\n",
    "    elif(re.search('outlook',list[i])):\n",
    "        outlook=outlook+1\n",
    "    elif(re.search('gov',list[i])):\n",
    "        gov=gov+1\n",
    "    elif(re.search('yahoo',list[i])):\n",
    "        yahoo=yahoo+1\n",
    "sum=gmail+gov+outlook+yahoo\n",
    "d={'Gmail':gmail,'Gov':gov,'Outlook':outlook,'Yahoo':yahoo}\n",
    "print(\"\\n\")\n",
    "\n",
    "print(\" number of mails-\",sum)\n",
    "print(\"Gmail-\",gmail)\n",
    "print(\"Gov-\",gov)\n",
    "print(\"Outlook-\",outlook)\n",
    "print(\"Yahoo-\",yahoo)\n",
    "print(d)"
   ]
  },
  {
   "cell_type": "code",
   "execution_count": null,
   "id": "4ba002ac",
   "metadata": {},
   "outputs": [],
   "source": []
  },
  {
   "cell_type": "code",
   "execution_count": null,
   "id": "2de6f636",
   "metadata": {},
   "outputs": [],
   "source": []
  }
 ],
 "metadata": {
  "kernelspec": {
   "display_name": "Python 3",
   "language": "python",
   "name": "python3"
  },
  "language_info": {
   "codemirror_mode": {
    "name": "ipython",
    "version": 3
   },
   "file_extension": ".py",
   "mimetype": "text/x-python",
   "name": "python",
   "nbconvert_exporter": "python",
   "pygments_lexer": "ipython3",
   "version": "3.8.8"
  }
 },
 "nbformat": 4,
 "nbformat_minor": 5
}
